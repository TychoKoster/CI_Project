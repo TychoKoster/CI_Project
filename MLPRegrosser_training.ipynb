{
 "cells": [
  {
   "cell_type": "code",
   "execution_count": 10,
   "metadata": {
    "collapsed": false
   },
   "outputs": [],
   "source": [
    "from collections import defaultdict\n",
    "import numpy as np\n",
    "import pandas\n",
    "import os\n",
    "from sklearn.model_selection import train_test_split\n",
    "from sklearn.neural_network import MLPRegressor\n",
    "\n",
    "\n",
    "def read_data(path):\n",
    "    input_data = np.array([])\n",
    "    output_data = np.array([])\n",
    "    category_index_input = dict()\n",
    "    category_index_output = dict()\n",
    "    for file in os.listdir(path):\n",
    "        if file.endswith('.csv'):\n",
    "            file_path = path + file\n",
    "            dataframe = pandas.read_csv(file_path)\n",
    "            dataset = dataframe.values\n",
    "            if not output_data.any():\n",
    "                output_data = dataset[:,0:3]\n",
    "                input_data = dataset[:,3:]\n",
    "            else:\n",
    "                output_data = np.append(output_data, dataset[:,0:3], axis=0)\n",
    "                input_data = np.append(input_data, dataset[:,3:], axis=0)\n",
    "    # Set category indices\n",
    "    data_types = dataframe.columns\n",
    "    input_categories = data_types[3:]\n",
    "    output_categories = data_types[0:3]\n",
    "    for i, category in enumerate(input_categories):\n",
    "        category_index_input[category] = i\n",
    "    for i,category in enumerate(output_categories):\n",
    "        category_index_output[category] = i\n",
    "    return category_index_input, category_index_output, input_data, output_data\n"
   ]
  },
  {
   "cell_type": "code",
   "execution_count": 5,
   "metadata": {
    "collapsed": false
   },
   "outputs": [],
   "source": [
    "category_index_input, category_index_output, input_data, output_data = read_data(\"train_data/\")"
   ]
  },
  {
   "cell_type": "code",
   "execution_count": 8,
   "metadata": {
    "collapsed": false
   },
   "outputs": [],
   "source": [
    "X_train, X_test, y_train, y_test = train_test_split(input_data, output_data, test_size=0.2, random_state=42)"
   ]
  },
  {
   "cell_type": "code",
   "execution_count": 208,
   "metadata": {
    "collapsed": false
   },
   "outputs": [
    {
     "data": {
      "text/plain": [
       "array([[  8.66276000e+01,   7.98884000e-01,   1.14185000e-03, ...,\n",
       "          9.49023000e+00,   9.11389000e+00,   8.99443000e+00],\n",
       "       [  7.15689000e+01,  -7.72318000e-01,   1.02466000e-01, ...,\n",
       "          1.17515000e+00,   1.14147000e+00,   1.14462000e+00],\n",
       "       [  1.30890000e+02,  -3.97034000e-01,  -8.26089000e-02, ...,\n",
       "          3.32600000e+00,   3.11937000e+00,   3.02534000e+00],\n",
       "       ..., \n",
       "       [  1.46223000e+02,   3.34005000e-01,   1.99369000e-02, ...,\n",
       "          7.04835000e+00,   6.75053000e+00,   6.67135000e+00],\n",
       "       [  1.37943000e+02,  -1.61521000e-01,   5.64173000e-02, ...,\n",
       "          4.37856000e+00,   4.22181000e+00,   4.19908000e+00],\n",
       "       [  8.25764000e+01,   4.36719000e-01,   2.04623000e-02, ...,\n",
       "          7.58969000e+00,   7.26971000e+00,   7.18510000e+00]])"
      ]
     },
     "execution_count": 208,
     "metadata": {},
     "output_type": "execute_result"
    }
   ],
   "source": [
    "\n",
    "X_train"
   ]
  },
  {
   "cell_type": "code",
   "execution_count": 17,
   "metadata": {
    "collapsed": false
   },
   "outputs": [],
   "source": [
    "MLPR = MLPRegressor(hidden_layer_sizes=(90, ), activation='logistic', solver='lbfgs', alpha=0.0001, batch_size='auto', \n",
    "                    learning_rate='constant', learning_rate_init=0.001, power_t=0.5, max_iter=200, shuffle=True, \n",
    "                    random_state=None, tol=0.0001, verbose=False, warm_start=False, momentum=0.9, nesterovs_momentum=True, \n",
    "                    early_stopping=False, validation_fraction=0.1, beta_1=0.9, beta_2=0.999, epsilon=1e-08)"
   ]
  },
  {
   "cell_type": "code",
   "execution_count": 18,
   "metadata": {
    "collapsed": false
   },
   "outputs": [
    {
     "data": {
      "text/plain": [
       "MLPRegressor(activation='logistic', alpha=0.0001, batch_size='auto',\n",
       "       beta_1=0.9, beta_2=0.999, early_stopping=False, epsilon=1e-08,\n",
       "       hidden_layer_sizes=(90,), learning_rate='constant',\n",
       "       learning_rate_init=0.001, max_iter=200, momentum=0.9,\n",
       "       nesterovs_momentum=True, power_t=0.5, random_state=None,\n",
       "       shuffle=True, solver='lbfgs', tol=0.0001, validation_fraction=0.1,\n",
       "       verbose=False, warm_start=False)"
      ]
     },
     "execution_count": 18,
     "metadata": {},
     "output_type": "execute_result"
    }
   ],
   "source": [
    "MLPR.fit(X_train, y_train)"
   ]
  },
  {
   "cell_type": "code",
   "execution_count": 19,
   "metadata": {
    "collapsed": false
   },
   "outputs": [],
   "source": [
    "import pickle\n",
    "pickle.dump(MLPR, open(\"MLPR.p\", \"wb\" ) )"
   ]
  },
  {
   "cell_type": "code",
   "execution_count": 21,
   "metadata": {
    "collapsed": false
   },
   "outputs": [],
   "source": [
    "model = pickle.load(open(\"MLPR.p\", \"rb\" ) )"
   ]
  },
  {
   "cell_type": "code",
   "execution_count": 211,
   "metadata": {
    "collapsed": false
   },
   "outputs": [],
   "source": [
    "predicted = MLPR.predict(X_test)"
   ]
  },
  {
   "cell_type": "code",
   "execution_count": 124,
   "metadata": {
    "collapsed": false
   },
   "outputs": [],
   "source": [
    "for i in range(len(predicted)):\n",
    "    if predicted[i] < 0.5:\n",
    "        predicted[i] = 0\n",
    "    else:\n",
    "        predicted[i] = 1\n",
    "        "
   ]
  },
  {
   "cell_type": "code",
   "execution_count": 199,
   "metadata": {
    "collapsed": false
   },
   "outputs": [],
   "source": [
    "import math\n",
    "true_predicted = []\n",
    "for i in range(len(predicted)):\n",
    "    if predicted[i][2] == y_test[i][2]:\n",
    "        true_predicted.append(predicted[i])"
   ]
  },
  {
   "cell_type": "code",
   "execution_count": 216,
   "metadata": {
    "collapsed": false
   },
   "outputs": [
    {
     "data": {
      "text/plain": [
       "array([ 0.94302076,  0.25947137,  0.15552017])"
      ]
     },
     "execution_count": 216,
     "metadata": {},
     "output_type": "execute_result"
    }
   ],
   "source": [
    "predicted[3]"
   ]
  },
  {
   "cell_type": "code",
   "execution_count": 217,
   "metadata": {
    "collapsed": false
   },
   "outputs": [
    {
     "data": {
      "text/plain": [
       "array([ 1.        ,  0.        , -0.01768568])"
      ]
     },
     "execution_count": 217,
     "metadata": {},
     "output_type": "execute_result"
    }
   ],
   "source": [
    "y_test[3]"
   ]
  },
  {
   "cell_type": "code",
   "execution_count": null,
   "metadata": {
    "collapsed": true
   },
   "outputs": [],
   "source": []
  }
 ],
 "metadata": {
  "anaconda-cloud": {},
  "kernelspec": {
   "display_name": "Python [conda env:py35]",
   "language": "python",
   "name": "conda-env-py35-py"
  },
  "language_info": {
   "codemirror_mode": {
    "name": "ipython",
    "version": 3
   },
   "file_extension": ".py",
   "mimetype": "text/x-python",
   "name": "python",
   "nbconvert_exporter": "python",
   "pygments_lexer": "ipython3",
   "version": "3.5.2"
  }
 },
 "nbformat": 4,
 "nbformat_minor": 1
}
